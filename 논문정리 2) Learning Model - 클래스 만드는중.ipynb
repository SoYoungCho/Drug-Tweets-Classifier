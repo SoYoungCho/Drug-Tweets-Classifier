{
 "cells": [
  {
   "cell_type": "code",
   "execution_count": 1,
   "metadata": {},
   "outputs": [],
   "source": [
    "#기본 라이브러리\n",
    "import numpy as np\n",
    "import pandas as pd\n",
    "import matplotlib.pyplot as plt\n",
    "#전처리부분\n",
    "from sklearn.model_selection import train_test_split\n",
    "from sklearn.feature_extraction.text import TfidfVectorizer\n",
    "#모델부분\n",
    "from sklearn import naive_bayes, svm\n",
    "from sklearn.neighbors import KNeighborsClassifier\n",
    "#검증부분 - Confusion_Matrix / Preciion and Reall \n",
    "from sklearn import metrics\n",
    "from sklearn.model_selection import cross_val_predict\n",
    "from sklearn.metrics import precision_recall_curve\n",
    "from sklearn.metrics import accuracy_score\n",
    "from sklearn.metrics import precision_score , recall_score , f1_score\n",
    "#검증부분 - Cross Validation\n",
    "from sklearn.model_selection import cross_val_score #점수 나타내기"
   ]
  },
  {
   "cell_type": "code",
   "execution_count": 2,
   "metadata": {},
   "outputs": [],
   "source": [
    "#raw데이터를 훈련-테스트 데이터로 나눈후 , fitting해서 리턴\n",
    "def data_transformer(data):\n",
    "    \n",
    "    #data = pd.read_excel(xlsx_file,encoding = 'utf-8')\n",
    "    #df = pd.DataFrame({'text':data['text'], 'label':data['label']})\n",
    "    Train_X, Test_X, Train_Y, Test_Y = train_test_split(data['Text'],data['Label'],test_size=0.3, random_state = 1)\n",
    "    \n",
    "    Tfidf_vect = TfidfVectorizer(max_features = 100000)\n",
    "    Tfidf_vect.fit(Train_X[:].values.astype('U'))\n",
    "\n",
    "    Train_X_Tfidf = Tfidf_vect.transform(Train_X[:].values.astype('U'))\n",
    "    Test_X_Tfidf = Tfidf_vect.transform(Test_X[:].values.astype('U'))\n",
    "\n",
    "    Tfidf_vect = TfidfVectorizer(max_features = 100000)\n",
    "    Tfidf_vect.fit(Train_X[:].values.astype('U'))\n",
    "\n",
    "    Train_X_Tfidf = Tfidf_vect.transform(Train_X[:].values.astype('U'))\n",
    "    Test_X_Tfidf = Tfidf_vect.transform(Test_X[:].values.astype('U'))\n",
    "    \n",
    "    return Train_X_Tfidf, Test_X_Tfidf, Train_Y, Test_Y"
   ]
  },
  {
   "cell_type": "code",
   "execution_count": 3,
   "metadata": {},
   "outputs": [],
   "source": [
    "def learning_svm(Train_X,Train_Y):\n",
    "    SVM = svm.SVC(C=1.0, kernel='linear', degree=3, gamma='auto')\n",
    "    SVM.fit(Train_X,Train_Y)\n",
    "    return SVM"
   ]
  },
  {
   "cell_type": "code",
   "execution_count": 4,
   "metadata": {},
   "outputs": [],
   "source": [
    "def predict_SVM(model_SVM,Test_X):\n",
    "    predictions_SVM = model_SVM.predict(Test_X)\n",
    "    return predictions_SVM"
   ]
  },
  {
   "cell_type": "code",
   "execution_count": 5,
   "metadata": {},
   "outputs": [],
   "source": [
    "def learning_MNB(Train_X,Train_Y):\n",
    "    Naive = naive_bayes.MultinomialNB()\n",
    "    Naive.fit(Train_X,Train_Y)\n",
    "    return Naive"
   ]
  },
  {
   "cell_type": "code",
   "execution_count": 6,
   "metadata": {},
   "outputs": [],
   "source": [
    "def predict_MNB(model,Test_X):\n",
    "    predictions_NB = model.predict(Test_X)\n",
    "    return predictions_NB"
   ]
  },
  {
   "cell_type": "code",
   "execution_count": 7,
   "metadata": {},
   "outputs": [],
   "source": [
    "def learning_KNN(Train_X,Train_Y):\n",
    "    knn_clf = KNeighborsClassifier(n_neighbors=3)\n",
    "    knn_clf.fit(Train_X,Train_Y)\n",
    "    return knn_clf"
   ]
  },
  {
   "cell_type": "code",
   "execution_count": 8,
   "metadata": {},
   "outputs": [],
   "source": [
    "def predict_KNN(model,Test_X):\n",
    "    predictions_KNN = model.predict(Test_X)\n",
    "    return predictions_KNN"
   ]
  },
  {
   "cell_type": "code",
   "execution_count": 9,
   "metadata": {},
   "outputs": [],
   "source": [
    "def score(predictions,Test_Y):\n",
    "    print(\"ACCURACY : \",accuracy_score(predictions, Test_Y)*100)\n",
    "    print(\"Precision Score :\" ,precision_score(Test_Y, predictions))\n",
    "    print(\"Recall Score : \",recall_score(Test_Y, predictions))\n",
    "    print(\"F1 Score : \",f1_score(Test_Y, predictions))"
   ]
  },
  {
   "cell_type": "code",
   "execution_count": 10,
   "metadata": {},
   "outputs": [],
   "source": [
    "def show_confusion_matrix(predictions,Test_Y):\n",
    "    print(metrics.confusion_matrix(Test_Y,predictions))"
   ]
  },
  {
   "cell_type": "code",
   "execution_count": 11,
   "metadata": {},
   "outputs": [],
   "source": [
    "def color_making(number):\n",
    "    if number == 3:\n",
    "         return \"Red\"\n",
    "    elif number == 2:\n",
    "        return \"Orange\"\n",
    "    elif number == 1:\n",
    "        return \"Yellow\"\n",
    "    elif number == 0:\n",
    "        return \"Green\"\n",
    "    else:\n",
    "        raise ValueError"
   ]
  },
  {
   "cell_type": "code",
   "execution_count": 12,
   "metadata": {},
   "outputs": [],
   "source": [
    "def make_result_dataframe(model1,model2,model3,test_data,y_Test):\n",
    "    color_list = []\n",
    "    decision_number = 0\n",
    "    ber_predict = model1.predict(test_data)\n",
    "    knn_predict = model2.predict(test_data)\n",
    "    svm_predict = model3.predict(test_data)\n",
    "    predict_list = [ber_predict,knn_predict,svm_predict]\n",
    "    for i in predict_list:\n",
    "        decision_number += np.array([x for x in i])\n",
    "    for number in decision_number:\n",
    "        color_list.append(color_making(number))\n",
    "    result = {'bernoulli' : ber_predict,'knn' : knn_predict,\"svm\" : svm_predict , 'decision_number' : decision_number, \"Color\" : color_list,\n",
    "             \"real_label\" : y_Test}\n",
    "    result_dataframe = pd.DataFrame(result)\n",
    "    return result_dataframe"
   ]
  },
  {
   "cell_type": "code",
   "execution_count": null,
   "metadata": {},
   "outputs": [],
   "source": []
  }
 ],
 "metadata": {
  "kernelspec": {
   "display_name": "Python 3",
   "language": "python",
   "name": "python3"
  },
  "language_info": {
   "codemirror_mode": {
    "name": "ipython",
    "version": 3
   },
   "file_extension": ".py",
   "mimetype": "text/x-python",
   "name": "python",
   "nbconvert_exporter": "python",
   "pygments_lexer": "ipython3",
   "version": "3.7.3"
  }
 },
 "nbformat": 4,
 "nbformat_minor": 2
}
